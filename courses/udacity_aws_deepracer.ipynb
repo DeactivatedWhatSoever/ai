{
 "cells": [
  {
   "cell_type": "markdown",
   "metadata": {},
   "source": [
    "# AWS DeepRacer with Udacity!\n",
    "I'm here to get a 'fun' hands on with machine learning. I always wanted to have a go with machine learning but I never sort of got to do it. Which is a huge and big excuse, but still, bear with me, I'll finally do it this time!\n",
    " I'm planning on getting the scholarship over here and actually get a free education on machine learning from Udacity. If I get that, I'll sure be able to get a hands-on experience and be able to take off from there. I'll learn and learn until I get my own AI startup started lol.\n",
    "\n",
    "Lessons:\n",
    "1. Welcome! Important Details on the AWS DeepRacer Scholarship\n",
    "2. Get Started with AWS DeepRacer\n",
    "3. Test Drive DeepRacer\n",
    "4. Reinforcement Learning\n",
    "5. Tuning Your Model\n",
    "6. DeepRacer in the Real World\n",
    "7. The League\n"
   ]
  },
  {
   "cell_type": "markdown",
   "metadata": {},
   "source": [
    "# Lesson 1\n",
    "Start!\n",
    "\n",
    "## AWS DeepRacer Scholarship Challenge\n",
    "Create, train, and fine-tune a reinforcement learning model for the DeepRacer race. \n",
    "The purpose is to get the highest average score for September, October, November, and I'll get a 3-month scholarship of machine learning engineer nandoegree. Which is awesome. "
   ]
  }
 ],
 "metadata": {
  "kernelspec": {
   "display_name": "Python 3",
   "language": "python",
   "name": "python3"
  },
  "language_info": {
   "codemirror_mode": {
    "name": "ipython",
    "version": 3
   },
   "file_extension": ".py",
   "mimetype": "text/x-python",
   "name": "python",
   "nbconvert_exporter": "python",
   "pygments_lexer": "ipython3",
   "version": "3.6.8"
  }
 },
 "nbformat": 4,
 "nbformat_minor": 2
}
