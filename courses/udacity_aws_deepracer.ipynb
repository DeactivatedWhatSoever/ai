{
 "cells": [
  {
   "cell_type": "markdown",
   "metadata": {},
   "source": [
    "# AWS DeepRacer with Udacity!\n",
    "I'm here to get a 'fun' hands on with machine learning. I always wanted to have a go with machine learning but I never sort of got to do it. Which is a huge and big excuse, but still, bear with me, I'll finally do it this time!\n",
    " I'm planning on getting the scholarship over here and actually get a free education on machine learning from Udacity. If I get that, I'll sure be able to get a hands-on experience and be able to take off from there. I'll learn and learn until I get my own AI startup started lol.\n",
    "\n",
    "Lessons:\n",
    "1. Welcome! Important Details on the AWS DeepRacer Scholarship\n",
    "2. Get Started with AWS DeepRacer\n",
    "3. Test Drive DeepRacer\n",
    "4. Reinforcement Learning\n",
    "5. Tuning Your Model\n",
    "6. DeepRacer in the Real World\n",
    "7. The League\n"
   ]
  },
  {
   "cell_type": "markdown",
   "metadata": {},
   "source": [
    "# Lesson 1\n",
    "Start!\n",
    "\n",
    "## AWS DeepRacer Scholarship Challenge\n",
    "Create, train, and fine-tune a reinforcement learning model for the DeepRacer race. \n",
    "The purpose is to get the highest average score for September, October, November, and I'll get a 3-month scholarship of machine learning engineer nandoegree. Which is awesome. "
   ]
  },
  {
   "cell_type": "markdown",
   "metadata": {},
   "source": [
    "# Lesson 2\n",
    "Okay, lesson 2!\n",
    "\n",
    "## Intro to AWS DeepRacer\n",
    "Just a nice video of AWS advertising their race! Lol.\n",
    "\n",
    "## Welcome\n",
    "We'll get into the:\n",
    "* Car's tech spec and assembly\n",
    "* How RL drives DeepRacer\n",
    "* Build, train, and deploy models!\n",
    "\n",
    "## RL in AWS DeepRacer\n",
    "So there are three types of machine learning.\n",
    "1. Supervised\n",
    "2. Unsupervised\n",
    "3. Reinforcement.\n",
    "\n",
    "So in RL, when an agent takes action with the environment, it gets a certain reward for its actions. If it was a good one, then it gets rewarded. If it made a bad choice, then it's going to be punished(rather a strong word mate!). \n",
    "\n",
    "The AWS DeepRacer car is 1/18th scaled car!\n",
    "\n",
    "## Unboxing AWS DeepRacer\n",
    "I can't believe this was just an unboxing video of DeepRacer lol. This isn't really good, but I'm actually thinking of buying one. But when I actually buy, I think I'll just go for vritual at the moment. \n",
    "\n",
    "## Under the Hood\n",
    "* a HD DeepLens camera\n",
    "* expansion ports\n",
    "* HDMI port\n",
    "* microUSB port\n",
    "* USB-C port\n",
    "* on/off switch\n",
    "* reset button\n",
    "* LEDs\n",
    "\n",
    "It has 32GB storage and even 4GB of RAM. This car is actually a computer lol. \n",
    "\n",
    "## DeepRacer Assembly\n",
    "It's just about putting on batteries, see whether the car booted up, got Wifi connected and stuff. All this would've been really useful if actually I had a car!!!! \n",
    "\n",
    "## Steering Calibration\n",
    "Calibration is something that's testing the threshold of acceleration and turning. There's also a stearing 'type' and I think it'll be nice to learn about cars. Really important. \n",
    "\n",
    "## Throttling Calibration\n",
    "Just doing throttling tests. \n",
    "\n",
    "## Track Preview\n",
    "Sooooo cool lol. \n",
    "There's an actual track for this lol. \n"
   ]
  }
 ],
 "metadata": {
  "kernelspec": {
   "display_name": "Python 3",
   "language": "python",
   "name": "python3"
  },
  "language_info": {
   "codemirror_mode": {
    "name": "ipython",
    "version": 3
   },
   "file_extension": ".py",
   "mimetype": "text/x-python",
   "name": "python",
   "nbconvert_exporter": "python",
   "pygments_lexer": "ipython3",
   "version": "3.6.8"
  }
 },
 "nbformat": 4,
 "nbformat_minor": 2
}
